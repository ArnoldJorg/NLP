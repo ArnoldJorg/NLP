{
 "cells": [
  {
   "cell_type": "code",
   "execution_count": null,
   "metadata": {},
   "outputs": [
    {
     "data": {
      "text/plain": [
       "'SafeMoon and the chaotic world of crypto Trending\\nSafeMoon promised its investors a trip to the moon but instead cost some their life savings.\\n\\nWhat does this controversial coin tells us about the safety and future of crypto?'"
      ]
     },
     "execution_count": 8,
     "metadata": {},
     "output_type": "execute_result"
    }
   ],
   "source": [
    "from numpy.random import randint as random\n",
    "\n",
    "def add_newline_after_full_stops(my_text):\n",
    "    sentences = my_text.split('.')\n",
    "    result = '.\\n'.join(sentences)\n",
    "    return result\n",
    "\n",
    "my_text = \"\"\"SafeMoon and the chaotic world of crypto Trending\n",
    "SafeMoon promised its investors a trip to the moon but instead cost some their life savings.\n",
    "What does this controversial coin tells us about the safety and future of crypto?\n",
    "The SafeMoon company released a minimal-function cryptocurrency wallet and announced plans to release other cryptocurrency products.\n",
    "The company and the token have been the subject of several controversies: having been compared to a ponzi-scheme, not delivering on products, having multiple class-action lawsuits filed against them, and facing serious fraud allegations.\n",
    "In November 2023, the SEC and the United States Department of Justice charged SafeMoon and its executive team with fraud, the unregistered offering of securities, and money laundering.\n",
    "\"\"\"\n",
    "\n",
    "add_newline_after_full_stops(my_text)"
   ]
  },
  {
   "cell_type": "code",
   "execution_count": 10,
   "metadata": {},
   "outputs": [],
   "source": [
    "def cut_up_poem_words(my_text, poem_length):\n",
    "    \n",
    "    words = my_text.split(' ')\n",
    "    num_words = len(words)\n",
    "    poem = ''\n",
    "    \n",
    "    for i in range(poem_length):\n",
    "        new_word = words[random(num_words-1)]\n",
    "        poem += new_word\n",
    "        poem += ' '\n",
    "\n",
    "    formatted_poem = add_newline_after_full_stops(poem)\n",
    "    return formatted_poem"
   ]
  },
  {
   "cell_type": "code",
   "execution_count": 13,
   "metadata": {},
   "outputs": [
    {
     "name": "stdout",
     "output_type": "stream",
     "text": [
      "savings.\n",
      "\n",
      "What instead us moon a coin a instead savings.\n",
      "\n",
      "What their savings.\n",
      "\n",
      "What life SafeMoon of us crypto its the world and about instead future future safety investors crypto tells SafeMoon coin us life and and moon does and coin us but \n"
     ]
    }
   ],
   "source": [
    "poem = cut_up_poem_words(my_text, 40)\n",
    "print(poem)"
   ]
  },
  {
   "cell_type": "code",
   "execution_count": null,
   "metadata": {},
   "outputs": [],
   "source": [
    "def cut_up_poem_sentences(my_text, poem_length):\n",
    "    \n",
    "    words = my_text.split('.')\n",
    "    num_words = len(words)\n",
    "    poem = ''\n",
    "    \n",
    "    for i in range(poem_length):\n",
    "        new_sentence = words[random(num_words-1)]\n",
    "        poem += new_sentence\n",
    "        poem += '.'\n",
    "\n",
    "    formatted_poem = add_newline_after_full_stops(poem)\n",
    "    return formatted_poem"
   ]
  },
  {
   "cell_type": "code",
   "execution_count": null,
   "metadata": {},
   "outputs": [
    {
     "name": "stdout",
     "output_type": "stream",
     "text": [
      "SafeMoon and the chaotic world of crypto Trending\n",
      "SafeMoon promised its investors a trip to the moon but instead cost some their life savings.\n",
      "SafeMoon and the chaotic world of crypto Trending\n",
      "SafeMoon promised its investors a trip to the moon but instead cost some their life savings.\n",
      "SafeMoon and the chaotic world of crypto Trending\n",
      "SafeMoon promised its investors a trip to the moon but instead cost some their life savings.\n",
      "SafeMoon and the chaotic world of crypto Trending\n",
      "SafeMoon promised its investors a trip to the moon but instead cost some their life savings.\n",
      "SafeMoon and the chaotic world of crypto Trending\n",
      "SafeMoon promised its investors a trip to the moon but instead cost some their life savings.\n",
      "\n"
     ]
    }
   ],
   "source": [
    "poem = cut_up_poem_sentences(my_text, 2)\n",
    "print(poem)"
   ]
  }
 ],
 "metadata": {
  "kernelspec": {
   "display_name": "Python 3 (ipykernel)",
   "language": "python",
   "name": "python3"
  },
  "language_info": {
   "codemirror_mode": {
    "name": "ipython",
    "version": 3
   },
   "file_extension": ".py",
   "mimetype": "text/x-python",
   "name": "python",
   "nbconvert_exporter": "python",
   "pygments_lexer": "ipython3",
   "version": "3.11.11"
  }
 },
 "nbformat": 4,
 "nbformat_minor": 2
}
