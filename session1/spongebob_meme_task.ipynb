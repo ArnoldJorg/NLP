{
 "cells": [
  {
   "cell_type": "code",
   "execution_count": 35,
   "metadata": {},
   "outputs": [
    {
     "name": "stdout",
     "output_type": "stream",
     "text": [
      "This is my string\n"
     ]
    }
   ],
   "source": [
    "my_string = 'This is my string'\n",
    "print(my_string)"
   ]
  },
  {
   "cell_type": "code",
   "execution_count": 36,
   "metadata": {},
   "outputs": [
    {
     "name": "stdout",
     "output_type": "stream",
     "text": [
      "this is my string\n"
     ]
    }
   ],
   "source": [
    "print(my_string.lower())"
   ]
  },
  {
   "cell_type": "code",
   "execution_count": 37,
   "metadata": {},
   "outputs": [
    {
     "name": "stdout",
     "output_type": "stream",
     "text": [
      "THIS IS MY STRING\n"
     ]
    }
   ],
   "source": [
    "print(my_string.upper())"
   ]
  },
  {
   "cell_type": "code",
   "execution_count": 38,
   "metadata": {},
   "outputs": [
    {
     "name": "stdout",
     "output_type": "stream",
     "text": [
      "my string has 17 characters\n"
     ]
    }
   ],
   "source": [
    "string_length = len(my_string)\n",
    "print(f'my string has {string_length} characters')"
   ]
  },
  {
   "cell_type": "code",
   "execution_count": 39,
   "metadata": {},
   "outputs": [
    {
     "name": "stdout",
     "output_type": "stream",
     "text": [
      "the length of my string is odd\n"
     ]
    }
   ],
   "source": [
    "if string_length % 2 == 0:\n",
    "    print('the length of my string is even')\n",
    "else:\n",
    "    print('the length of my string is odd')"
   ]
  },
  {
   "cell_type": "code",
   "execution_count": 40,
   "metadata": {},
   "outputs": [
    {
     "name": "stdout",
     "output_type": "stream",
     "text": [
      "Character 0 (T) is uppercase\n",
      "Character 1 (h) is lowercase\n",
      "Character 2 (i) is lowercase\n",
      "Character 3 (s) is lowercase\n",
      "Character 4 ( ) does not have a case\n",
      "Character 5 (i) is lowercase\n",
      "Character 6 (s) is lowercase\n",
      "Character 7 ( ) does not have a case\n",
      "Character 8 (m) is lowercase\n",
      "Character 9 (y) is lowercase\n",
      "Character 10 ( ) does not have a case\n",
      "Character 11 (s) is lowercase\n",
      "Character 12 (t) is lowercase\n",
      "Character 13 (r) is lowercase\n",
      "Character 14 (i) is lowercase\n",
      "Character 15 (n) is lowercase\n",
      "Character 16 (g) is lowercase\n"
     ]
    }
   ],
   "source": [
    "for i, char in enumerate(my_string):\n",
    "    if char.isupper():\n",
    "        print(f'Character {i} ({char}) is uppercase')\n",
    "    elif char.islower():\n",
    "        print(f'Character {i} ({char}) is lowercase')\n",
    "    else:\n",
    "        print(f'Character {i} ({char}) does not have a case')\n"
   ]
  },
  {
   "cell_type": "code",
   "execution_count": 41,
   "metadata": {},
   "outputs": [],
   "source": [
    "# now the task ---\n",
    "def mocking_spongebob_template(input_string):\n",
    "    # Placeholder variable for the new string variable that our function will return\n",
    "    new_string = \"\"\n",
    "\n",
    "    # Use a for loop to iterate over each character in the list\n",
    "    for i, char in enumerate(input_string):\n",
    "\n",
    "        # This is how we can build a new string character by character \n",
    "        # Tip: we probably want to use an if statement to decide whether letters should be upper case or lower case\n",
    "        new_string += char.lower() \n",
    "\n",
    "    # Return our new string\n",
    "    return new_string"
   ]
  },
  {
   "cell_type": "code",
   "execution_count": null,
   "metadata": {},
   "outputs": [],
   "source": []
  }
 ],
 "metadata": {
  "kernelspec": {
   "display_name": "Python 3 (ipykernel)",
   "language": "python",
   "name": "python3"
  },
  "language_info": {
   "codemirror_mode": {
    "name": "ipython",
    "version": 3
   },
   "file_extension": ".py",
   "mimetype": "text/x-python",
   "name": "python",
   "nbconvert_exporter": "python",
   "pygments_lexer": "ipython3",
   "version": "3.11.11"
  }
 },
 "nbformat": 4,
 "nbformat_minor": 2
}
