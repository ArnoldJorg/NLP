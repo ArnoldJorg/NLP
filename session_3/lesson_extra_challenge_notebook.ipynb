{
 "cells": [
  {
   "cell_type": "markdown",
   "id": "da0d4d13-2cb2-4ad6-8adb-87f1fb4b0b46",
   "metadata": {},
   "source": [
    "## 🔥 Challenge for You!\n",
    "Can you find:\n",
    "\n",
    "•A word similar to \"robot\" 🤖?\n",
    "\n",
    "•A word similar to \"chocolate\" 🍫?\n",
    "\n",
    "•The cosine similarity between \"love\" ❤️ and \"hate\" 💔?\n",
    "\n",
    "•Let me know what you discover! 🚀🎉"
   ]
  },
  {
   "cell_type": "code",
   "execution_count": 1,
   "id": "1d6b5cf1-0ebe-4b04-bbe0-e0b55339b3bb",
   "metadata": {},
   "outputs": [
    {
     "name": "stdout",
     "output_type": "stream",
     "text": [
      "✅ Model loaded! Ready to play with words!\n"
     ]
    }
   ],
   "source": [
    "import gensim.downloader as api\n",
    "\n",
    "# Load the pre-trained Word2Vec model (this may take a minute to download)\n",
    "model = api.load(\"glove-wiki-gigaword-100\")  # GloVe vectors with 100 dimensions\n",
    "print(\"✅ Model loaded! Ready to play with words!\")"
   ]
  },
  {
   "cell_type": "code",
   "execution_count": 2,
   "id": "0175515d-9ecd-402b-9a73-4c119e1c1cae",
   "metadata": {},
   "outputs": [
    {
     "name": "stdin",
     "output_type": "stream",
     "text": [
      "Enter a word to find similar words:  robot\n"
     ]
    },
    {
     "name": "stdout",
     "output_type": "stream",
     "text": [
      "\n",
      "🔥 Words most similar to 'robot':\n",
      "robots: 0.8415\n",
      "robotic: 0.7940\n",
      "humanoid: 0.6553\n",
      "creature: 0.5999\n",
      "monster: 0.5975\n"
     ]
    }
   ],
   "source": [
    "# Get user input for a word\n",
    "word = input(\"Enter a word to find similar words: \")\n",
    "\n",
    "# Check if the word is in the model's vocabulary\n",
    "if word in model.key_to_index:\n",
    "    # Find the top 5 most similar words\n",
    "    similar_words = model.most_similar(word, topn=5)\n",
    "    print(f\"\\n🔥 Words most similar to '{word}':\")\n",
    "    for similar_word, score in similar_words:\n",
    "        print(f\"{similar_word}: {score:.4f}\")\n",
    "else:\n",
    "    print(f\"⚠️ Sorry, the word '{word}' is not in the model's vocabulary.\")"
   ]
  },
  {
   "cell_type": "code",
   "execution_count": 4,
   "id": "4a3edbe6-a999-4780-8995-6510078ab4bf",
   "metadata": {},
   "outputs": [
    {
     "name": "stdin",
     "output_type": "stream",
     "text": [
      "Enter a word to find similar words:  chocolate\n"
     ]
    },
    {
     "name": "stdout",
     "output_type": "stream",
     "text": [
      "\n",
      "🔥 Words most similar to 'chocolate':\n",
      "cream: 0.8487\n",
      "cake: 0.7893\n",
      "caramel: 0.7842\n",
      "candy: 0.7699\n",
      "cheese: 0.7689\n"
     ]
    }
   ],
   "source": [
    "# Get user input for a word\n",
    "word = input(\"Enter a word to find similar words: \")\n",
    "\n",
    "# Check if the word is in the model's vocabulary\n",
    "if word in model.key_to_index:\n",
    "    # Find the top 5 most similar words\n",
    "    similar_words = model.most_similar(word, topn=5)\n",
    "    print(f\"\\n🔥 Words most similar to '{word}':\")\n",
    "    for similar_word, score in similar_words:\n",
    "        print(f\"{similar_word}: {score:.4f}\")\n",
    "else:\n",
    "    print(f\"⚠️ Sorry, the word '{word}' is not in the model's vocabulary.\")"
   ]
  },
  {
   "cell_type": "code",
   "execution_count": 7,
   "id": "4089140c-6474-490a-a05f-3391ec1a34d1",
   "metadata": {},
   "outputs": [
    {
     "name": "stdin",
     "output_type": "stream",
     "text": [
      "Enter the first word:  hate\n",
      "Enter the second word:  love\n"
     ]
    },
    {
     "name": "stdout",
     "output_type": "stream",
     "text": [
      "\n",
      "🔗 Cosine similarity between 'hate' and 'love': 0.5704\n"
     ]
    }
   ],
   "source": [
    "import numpy as np\n",
    "\n",
    "def cosine_similarity_word2vec(word1, word2, model):\n",
    "    vector1 = model[word1]\n",
    "    vector2 = model[word2]\n",
    "    dot_product = np.dot(vector1, vector2)\n",
    "    magnitude1 = np.linalg.norm(vector1)\n",
    "    magnitude2 = np.linalg.norm(vector2)\n",
    "    return dot_product / (magnitude1 * magnitude2)\n",
    "\n",
    "# Get user input for two words\n",
    "word1 = input(\"Enter the first word: \")\n",
    "word2 = input(\"Enter the second word: \")\n",
    "\n",
    "# Calculate and print cosine similarity\n",
    "if word1 in model.key_to_index and word2 in model.key_to_index:\n",
    "    similarity = cosine_similarity_word2vec(word1, word2, model)\n",
    "    print(f\"\\n🔗 Cosine similarity between '{word1}' and '{word2}': {similarity:.4f}\")\n",
    "else:\n",
    "    print(\"⚠️ One or both words are not in the model's vocabulary.\")\n"
   ]
  },
  {
   "cell_type": "code",
   "execution_count": null,
   "id": "95134b52-baed-4d6a-b462-f925f831c6c0",
   "metadata": {},
   "outputs": [],
   "source": []
  }
 ],
 "metadata": {
  "kernelspec": {
   "display_name": "Python 3 (ipykernel)",
   "language": "python",
   "name": "python3"
  },
  "language_info": {
   "codemirror_mode": {
    "name": "ipython",
    "version": 3
   },
   "file_extension": ".py",
   "mimetype": "text/x-python",
   "name": "python",
   "nbconvert_exporter": "python",
   "pygments_lexer": "ipython3",
   "version": "3.11.11"
  }
 },
 "nbformat": 4,
 "nbformat_minor": 5
}
