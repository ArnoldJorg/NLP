{
 "cells": [
  {
   "cell_type": "markdown",
   "metadata": {},
   "source": [
    "## Twitter-aware tokenizer, designed to be flexible and easy to adapt to new domains and tasks. The basic logic is this:\n",
    "\n",
    "1. The tuple REGEXPS defines a list of regular expression strings.\n",
    "\n",
    "2. The REGEXPS strings are put, in order, into a compiled regular expression object called WORD_RE, under the TweetTokenizer class.\n",
    "\n",
    "3. The tokenization is done by WORD_RE.findall(s), where s is the user-supplied string, inside the tokenize() method of the class TweetTokenizer.\n",
    "\n",
    "4. When instantiating Tokenizer objects, there are several options:\n",
    "preserve_case. By default, it is set to True. If it is set to False, then the tokenizer will downcase everything except for emoticons.\n",
    "\n",
    "•           educe_len. By default, it is set to False. It specifies whether to replace repeated character sequences of length 3 or greater with sequences of length 3.\n",
    "•           strip_handles. By default, it is set to False. It specifies whether to remove Twitter handles of text used in the tokenize method.\n",
    "•           match_phone_numbers. By default, it is set to True. It indicates whether the tokenize method should look for phone numbers."
   ]
  },
  {
   "cell_type": "code",
   "execution_count": null,
   "metadata": {},
   "outputs": [],
   "source": []
  }
 ],
 "metadata": {
  "language_info": {
   "name": "python"
  }
 },
 "nbformat": 4,
 "nbformat_minor": 2
}
