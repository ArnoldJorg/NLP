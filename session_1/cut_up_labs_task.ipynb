{
 "cells": [
  {
   "cell_type": "code",
   "execution_count": 4,
   "metadata": {},
   "outputs": [
    {
     "data": {
      "text/plain": [
       "'SafeMoon and the chaotic world of crypto Trending\\nSafeMoon promised its investors a trip to the moon but instead cost some their life savings.\\n\\nWhat does this controversial coin tells us about the safety and future of crypto?\\nThe SafeMoon company released a minimal-function cryptocurrency wallet and announced plans to release other cryptocurrency products.\\n\\nThe company and the token have been the subject of several controversies: having been compared to a ponzi-scheme, not delivering on products, having multiple class-action lawsuits filed against them, and facing serious fraud allegations.\\n\\nIn November 2023, the SEC and the United States Department of Justice charged SafeMoon and its executive team with fraud, the unregistered offering of securities, and money laundering.\\n\\n'"
      ]
     },
     "execution_count": 4,
     "metadata": {},
     "output_type": "execute_result"
    }
   ],
   "source": [
    "from numpy.random import randint as random\n",
    "\n",
    "def add_newline_after_full_stops(my_text):\n",
    "    sentences = my_text.split('.')\n",
    "    result = '.\\n'.join(sentences)\n",
    "    return result\n",
    "\n",
    "my_text = \"\"\"SafeMoon and the chaotic world of crypto Trending\n",
    "SafeMoon promised its investors a trip to the moon but instead cost some their life savings.\n",
    "What does this controversial coin tells us about the safety and future of crypto?\n",
    "The SafeMoon company released a minimal-function cryptocurrency wallet and announced plans to release other cryptocurrency products.\n",
    "The company and the token have been the subject of several controversies: having been compared to a ponzi-scheme, not delivering on products, having multiple class-action lawsuits filed against them, and facing serious fraud allegations.\n",
    "In November 2023, the SEC and the United States Department of Justice charged SafeMoon and its executive team with fraud, the unregistered offering of securities, and money laundering.\n",
    "\"\"\"\n",
    "\n",
    "add_newline_after_full_stops(my_text)"
   ]
  },
  {
   "cell_type": "code",
   "execution_count": 5,
   "metadata": {},
   "outputs": [],
   "source": [
    "def cut_up_poem_words(my_text, poem_length):\n",
    "    \n",
    "    words = my_text.split(' ')\n",
    "    num_words = len(words)\n",
    "    poem = ''\n",
    "    \n",
    "    for i in range(poem_length):\n",
    "        new_word = words[random(num_words-1)]\n",
    "        poem += new_word\n",
    "        poem += ' '\n",
    "\n",
    "    formatted_poem = add_newline_after_full_stops(poem)\n",
    "    return formatted_poem"
   ]
  },
  {
   "cell_type": "code",
   "execution_count": 6,
   "metadata": {},
   "outputs": [
    {
     "name": "stdout",
     "output_type": "stream",
     "text": [
      "cryptocurrency unregistered fraud class-action ponzi-scheme, SafeMoon SafeMoon against SEC plans States chaotic savings.\n",
      "\n",
      "What the SEC SEC compared a subject having November does and and and SafeMoon against announced controversial the does other the fraud release the SafeMoon allegations.\n",
      "\n",
      "In company team \n"
     ]
    }
   ],
   "source": [
    "poem = cut_up_poem_words(my_text, 40)\n",
    "print(poem)"
   ]
  },
  {
   "cell_type": "code",
   "execution_count": 9,
   "metadata": {},
   "outputs": [],
   "source": [
    "def cut_up_poem_sentences(my_text, poem_length):\n",
    "    \n",
    "    words = my_text.split('.')\n",
    "    num_words = len(words)\n",
    "    poem = ''\n",
    "    \n",
    "    for i in range(poem_length):\n",
    "        new_sentence = words[random(num_words-1)]\n",
    "        poem += new_sentence\n",
    "        poem += '.'\n",
    "\n",
    "    formatted_poem = add_newline_after_full_stops(poem)\n",
    "    return formatted_poem"
   ]
  },
  {
   "cell_type": "code",
   "execution_count": 10,
   "metadata": {},
   "outputs": [
    {
     "name": "stdout",
     "output_type": "stream",
     "text": [
      "\n",
      "In November 2023, the SEC and the United States Department of Justice charged SafeMoon and its executive team with fraud, the unregistered offering of securities, and money laundering.\n",
      "\n",
      "The company and the token have been the subject of several controversies: having been compared to a ponzi-scheme, not delivering on products, having multiple class-action lawsuits filed against them, and facing serious fraud allegations.\n",
      "SafeMoon and the chaotic world of crypto Trending\n",
      "SafeMoon promised its investors a trip to the moon but instead cost some their life savings.\n",
      "\n",
      "What does this controversial coin tells us about the safety and future of crypto?\n",
      "The SafeMoon company released a minimal-function cryptocurrency wallet and announced plans to release other cryptocurrency products.\n",
      "\n"
     ]
    }
   ],
   "source": [
    "poem = cut_up_poem_sentences(my_text, 4)\n",
    "print(poem)"
   ]
  },
  {
   "cell_type": "code",
   "execution_count": 11,
   "metadata": {},
   "outputs": [
    {
     "name": "stdout",
     "output_type": "stream",
     "text": [
      "\n",
      "\n",
      "In November 2023, the SEC and the United States Department of Justice charged SafeMoon and its executive team with fraud, the unregistered offering of securities, and money laundering.\n",
      "\n",
      " is Vladimir ready the to elected in \n",
      "\n",
      "What does this controversial coin tells us about the safety and future of crypto?\n",
      "The SafeMoon company released a minimal-function cryptocurrency wallet and announced plans to release other cryptocurrency products.\n",
      "\n",
      " used.\n",
      "\n",
      "SafeMoon and the chaotic world of crypto Trending\n",
      "SafeMoon promised its investors a trip to the moon but instead cost some their life savings.\n",
      "\n",
      "\n",
      "The company and the token have been the subject of several controversies: having been compared to a ponzi-scheme, not delivering on products, having multiple class-action lawsuits filed against them, and facing serious fraud allegations.\n",
      "\n",
      "\n",
      "In November 2023, the SEC and the United States Department of Justice charged SafeMoon and its executive team with fraud, the unregistered offering of securities, and money laundering.\n",
      "\n",
      " - spokesperson legitimacy Zelensky's that five-year line ready Moscow Vladimir a for in statement, to the Putin Moscow questioned Moscow is Putin spokesperson Peskov in \n",
      "Zelensky Zelensky.\n",
      "\n",
      " from Away Kremlin in himself line Moscow meet to for from Vladimir Putin the elected the presidency the term.\n",
      "\n",
      " has Riyadh questioned \n",
      "Zelensky repeatedly a the that from 2019 meet the \n",
      "In legitimacy five-year indicated to from Dmitry used.\n",
      "\n",
      "\n",
      "In November 2023, the SEC and the United States Department of Justice charged SafeMoon and its executive team with fraud, the unregistered offering of securities, and money laundering.\n",
      "\n"
     ]
    }
   ],
   "source": [
    "# this is the google docs poem:\n",
    "docs_text = \"\"\"himself meet elected talks used.\n",
    " today, the ready to ready Zelensky.\n",
    " - spokesperson legitimacy Zelensky's that five-year line ready Moscow Vladimir a for in statement, to the Putin Moscow questioned Moscow is Putin spokesperson Peskov in \n",
    "Zelensky Zelensky.\n",
    " from Away Kremlin in himself line Moscow meet to for from Vladimir Putin the elected the presidency the term.\n",
    " Kremlin has president is five-year to Zelensky's legitimacy indicated term.\n",
    " has Riyadh questioned \n",
    "Zelensky repeatedly a the that from 2019 meet the \n",
    "In legitimacy five-year indicated to from Dmitry used.\n",
    " used.\n",
    " from president legitimacy Away Zelensky.\n",
    " is Vladimir ready the to elected in \n",
    "\n",
    "What does this controversial coin tells us about the safety and future of crypto?\n",
    "The SafeMoon company released a minimal-function cryptocurrency wallet and announced plans to release other cryptocurrency products.\n",
    "\n",
    "In November 2023, the SEC and the United States Department of Justice charged SafeMoon and its executive team with fraud, the unregistered offering of securities, and money laundering.\n",
    "SafeMoon and the chaotic world of crypto Trending\n",
    "SafeMoon promised its investors a trip to the moon but instead cost some their life savings.\n",
    "\n",
    "The company and the token have been the subject of several controversies: having been compared to a ponzi-scheme, not delivering on products, having multiple class-action lawsuits filed against them, and facing serious fraud allegations.\"\"\"\n",
    "poem = cut_up_poem_sentences(docs_text, 10)\n",
    "print(poem)"
   ]
  },
  {
   "cell_type": "code",
   "execution_count": null,
   "metadata": {},
   "outputs": [],
   "source": []
  }
 ],
 "metadata": {
  "kernelspec": {
   "display_name": "Python 3",
   "language": "python",
   "name": "python3"
  },
  "language_info": {
   "codemirror_mode": {
    "name": "ipython",
    "version": 3
   },
   "file_extension": ".py",
   "mimetype": "text/x-python",
   "name": "python",
   "nbconvert_exporter": "python",
   "pygments_lexer": "ipython3",
   "version": "3.11.11"
  }
 },
 "nbformat": 4,
 "nbformat_minor": 2
}
