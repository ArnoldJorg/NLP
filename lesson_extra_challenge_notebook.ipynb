{
 "cells": [
  {
   "cell_type": "markdown",
   "id": "da0d4d13-2cb2-4ad6-8adb-87f1fb4b0b46",
   "metadata": {},
   "source": [
    "## 🔥 Challenge for You!\n",
    "Can you find:\n",
    "\n",
    "•A word similar to \"robot\" 🤖?\n",
    "\n",
    "•A word similar to \"chocolate\" 🍫?\n",
    "\n",
    "•The cosine similarity between \"love\" ❤️ and \"hate\" 💔?\n",
    "\n",
    "•Let me know what you discover! 🚀🎉"
   ]
  },
  {
   "cell_type": "code",
   "execution_count": 1,
   "id": "1d6b5cf1-0ebe-4b04-bbe0-e0b55339b3bb",
   "metadata": {},
   "outputs": [
    {
     "name": "stdout",
     "output_type": "stream",
     "text": [
      "✅ Model loaded! Ready to play with words!\n"
     ]
    }
   ],
   "source": [
    "import gensim.downloader as api\n",
    "\n",
    "# Load the pre-trained Word2Vec model (this may take a minute to download)\n",
    "model = api.load(\"glove-wiki-gigaword-100\")  # GloVe vectors with 100 dimensions\n",
    "print(\"✅ Model loaded! Ready to play with words!\")"
   ]
  },
  {
   "cell_type": "code",
   "execution_count": null,
   "id": "0175515d-9ecd-402b-9a73-4c119e1c1cae",
   "metadata": {},
   "outputs": [],
   "source": [
    "# Get user input for a word\n",
    "word = input(\"Enter a word to find similar words: \")\n",
    "\n",
    "# Check if the word is in the model's vocabulary\n",
    "if word in model.key_to_index:\n",
    "    # Find the top 5 most similar words\n",
    "    similar_words = model.most_similar(word, topn=5)\n",
    "    print(f\"\\n🔥 Words most similar to '{word}':\")\n",
    "    for similar_word, score in similar_words:\n",
    "        print(f\"{similar_word}: {score:.4f}\")\n",
    "else:\n",
    "    print(f\"⚠️ Sorry, the word '{word}' is not in the model's vocabulary.\")"
   ]
  }
 ],
 "metadata": {
  "kernelspec": {
   "display_name": "Python 3 (ipykernel)",
   "language": "python",
   "name": "python3"
  },
  "language_info": {
   "codemirror_mode": {
    "name": "ipython",
    "version": 3
   },
   "file_extension": ".py",
   "mimetype": "text/x-python",
   "name": "python",
   "nbconvert_exporter": "python",
   "pygments_lexer": "ipython3",
   "version": "3.11.11"
  }
 },
 "nbformat": 4,
 "nbformat_minor": 5
}
