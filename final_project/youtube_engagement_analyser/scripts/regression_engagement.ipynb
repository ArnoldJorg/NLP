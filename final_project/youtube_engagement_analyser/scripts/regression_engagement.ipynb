{
 "cells": [
  {
   "cell_type": "markdown",
   "metadata": {},
   "source": [
    "Now let's predict the views and likes based on the title:"
   ]
  },
  {
   "cell_type": "code",
   "execution_count": 1,
   "metadata": {},
   "outputs": [
    {
     "name": "stdout",
     "output_type": "stream",
     "text": [
      "RMSE: 4903481.63\n",
      "R^2 Score: -2.10\n",
      "                                               Title  Actual Views  \\\n",
      "8  A Reminder To Treat Yourself Better | Jordan P...         77516   \n",
      "1  Jordan Peterson - 7 Harsh Truths To Take Contr...       5647156   \n",
      "\n",
      "   Predicted Views  \n",
      "8          6730193  \n",
      "1          7604233  \n"
     ]
    }
   ],
   "source": [
    "import pandas as pd\n",
    "from sklearn.model_selection import train_test_split\n",
    "from sklearn.feature_extraction.text import TfidfVectorizer\n",
    "from sklearn.linear_model import Ridge\n",
    "from sklearn.metrics import mean_squared_error, r2_score\n",
    "import numpy as np\n",
    "\n",
    "df = pd.read_csv(\"../data/titles_dataset.csv\")\n",
    "\n",
    "# OPTIONAL: Filter rows where views exist\n",
    "df = df[df[\"Views\"].notnull()]\n",
    "\n",
    "# Features and labels\n",
    "X = df[\"Title\"]\n",
    "y = df[\"Views\"]\n",
    "\n",
    "# Split data\n",
    "X_train, X_test, y_train, y_test = train_test_split(X, y, test_size=0.2, random_state=42)\n",
    "\n",
    "# TF-IDF Vectorization\n",
    "vectorizer = TfidfVectorizer(max_features=300)\n",
    "X_train_vec = vectorizer.fit_transform(X_train)\n",
    "X_test_vec = vectorizer.transform(X_test)\n",
    "\n",
    "# Ridge Regression (robust for high-dimensional text features)\n",
    "model = Ridge(alpha=1.0)\n",
    "model.fit(X_train_vec, y_train)\n",
    "\n",
    "# Predict\n",
    "y_pred = model.predict(X_test_vec)\n",
    "\n",
    "# Evaluate\n",
    "mse = mean_squared_error(y_test, y_pred)\n",
    "rmse = np.sqrt(mse)\n",
    "r2 = r2_score(y_test, y_pred)\n",
    "\n",
    "print(f\"RMSE: {rmse:.2f}\")\n",
    "print(f\"R^2 Score: {r2:.2f}\")\n",
    "\n",
    "# predictions vs actual\n",
    "results_df = pd.DataFrame({\n",
    "    \"Title\": X_test,\n",
    "    \"Actual Views\": y_test,\n",
    "    \"Predicted Views\": y_pred.astype(int)\n",
    "})\n",
    "print(results_df.head())\n"
   ]
  }
 ],
 "metadata": {
  "kernelspec": {
   "display_name": "venv2",
   "language": "python",
   "name": "python3"
  },
  "language_info": {
   "codemirror_mode": {
    "name": "ipython",
    "version": 3
   },
   "file_extension": ".py",
   "mimetype": "text/x-python",
   "name": "python",
   "nbconvert_exporter": "python",
   "pygments_lexer": "ipython3",
   "version": "3.11.11"
  }
 },
 "nbformat": 4,
 "nbformat_minor": 2
}
