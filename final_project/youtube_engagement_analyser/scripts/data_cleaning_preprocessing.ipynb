{
 "cells": [
  {
   "cell_type": "code",
   "execution_count": 8,
   "metadata": {},
   "outputs": [
    {
     "name": "stdout",
     "output_type": "stream",
     "text": [
      "       Index                                            Comment  \\\n",
      "0          0  Hello you beauties. I really enjoyed this one,...   \n",
      "1          1                           Wonderful insight Jordan   \n",
      "2          2  Jordan Peterson is a great man really genuine ...   \n",
      "3          3  One of the greatest men of our time, God Bless...   \n",
      "4          4  I’m not sure if it’s because of my ADHD, but a...   \n",
      "...      ...                                                ...   \n",
      "24490     22                                               Thx.   \n",
      "24491     23  What a great message and very much akin to the...   \n",
      "24492     24                                               Best   \n",
      "24493     25                                              Third   \n",
      "24494     26                             I&#39;m good at badly.   \n",
      "\n",
      "       Comment Likes                 Author  Reply Count           Id  \n",
      "0               1223            @ChrisWillx           82  WEP5ubPMGDU  \n",
      "1                  0      @Neilchristie-c2r            0  WEP5ubPMGDU  \n",
      "2                  0       @seanseasman1355            0  WEP5ubPMGDU  \n",
      "3                  1            @johnve8327            0  WEP5ubPMGDU  \n",
      "4                  0   @SeniorWellnessGuide            0  WEP5ubPMGDU  \n",
      "...              ...                    ...          ...          ...  \n",
      "24490              5   @piercehawthorne8124            0  FJV7HeHT4q4  \n",
      "24491             20          @BrotherTree1            0  FJV7HeHT4q4  \n",
      "24492              5           @ele7520-h2m            0  FJV7HeHT4q4  \n",
      "24493              5      @himanshu_finally            0  FJV7HeHT4q4  \n",
      "24494             50  @AudiobookLibrary24-7            2  FJV7HeHT4q4  \n",
      "\n",
      "[24495 rows x 6 columns]\n"
     ]
    }
   ],
   "source": [
    "import pandas as pd\n",
    "\n",
    "df = pd.read_csv('youtube_comment_data.csv')\n",
    "\n",
    "print(df)"
   ]
  },
  {
   "cell_type": "markdown",
   "metadata": {},
   "source": [
    "Check for NAN values:"
   ]
  },
  {
   "cell_type": "code",
   "execution_count": 9,
   "metadata": {},
   "outputs": [
    {
     "name": "stdout",
     "output_type": "stream",
     "text": [
      "True\n"
     ]
    }
   ],
   "source": [
    "print(df.isnull().values.any())\n"
   ]
  },
  {
   "cell_type": "code",
   "execution_count": null,
   "metadata": {},
   "outputs": [
    {
     "name": "stdout",
     "output_type": "stream",
     "text": [
      "Index             0\n",
      "Comment           0\n",
      "Comment Likes     0\n",
      "Author           16\n",
      "Reply Count       0\n",
      "Id                0\n",
      "dtype: int64\n"
     ]
    }
   ],
   "source": [
    "print(df.isnull().sum())  \n"
   ]
  },
  {
   "cell_type": "markdown",
   "metadata": {},
   "source": [
    "Default text for NaN authors:"
   ]
  },
  {
   "cell_type": "code",
   "execution_count": 11,
   "metadata": {},
   "outputs": [],
   "source": [
    "df[\"Author\"] = df[\"Author\"].fillna(\"Unknown\")\n"
   ]
  },
  {
   "cell_type": "markdown",
   "metadata": {},
   "source": [
    "Check for duplicated rows:"
   ]
  },
  {
   "cell_type": "code",
   "execution_count": 12,
   "metadata": {},
   "outputs": [
    {
     "name": "stdout",
     "output_type": "stream",
     "text": [
      "Number of duplicate rows: 0\n"
     ]
    }
   ],
   "source": [
    "duplicate_rows = df.duplicated().sum()\n",
    "print(f\"Number of duplicate rows: {duplicate_rows}\")"
   ]
  },
  {
   "cell_type": "markdown",
   "metadata": {},
   "source": [
    "Make the comments lower case for the model:"
   ]
  },
  {
   "cell_type": "code",
   "execution_count": 14,
   "metadata": {},
   "outputs": [],
   "source": [
    "df[\"Comment\"] = df[\"Comment\"].str.lower()\n"
   ]
  },
  {
   "cell_type": "markdown",
   "metadata": {},
   "source": [
    "Remove whitespaces:"
   ]
  },
  {
   "cell_type": "code",
   "execution_count": 15,
   "metadata": {},
   "outputs": [],
   "source": [
    "df[\"Comment\"] = df[\"Comment\"].str.strip()\n"
   ]
  },
  {
   "cell_type": "code",
   "execution_count": 16,
   "metadata": {},
   "outputs": [],
   "source": [
    "import re\n",
    "df[\"Comment\"] = df[\"Comment\"].apply(lambda x: re.sub(r\"http\\S+|www\\S+|[^a-zA-Z0-9\\s]\", \"\", x))\n"
   ]
  },
  {
   "cell_type": "markdown",
   "metadata": {},
   "source": [
    "Check if the columns \"Like Count\" and \"Reply Count\" are strings:"
   ]
  },
  {
   "cell_type": "code",
   "execution_count": 21,
   "metadata": {},
   "outputs": [
    {
     "name": "stdout",
     "output_type": "stream",
     "text": [
      "It is not a string.\n",
      "It is not a string.\n"
     ]
    }
   ],
   "source": [
    "if isinstance(df[\"Comment Likes\"][0], str):  # Check if the value in the \"Comment\" column is a string\n",
    "    print(\"It is a string.\")\n",
    "else:\n",
    "    print(\"It is not a string.\")\n",
    "\n",
    "if isinstance(df[\"Reply Count\"][0], str):  # Check if the value in the \"Comment\" column is a string\n",
    "    print(\"It is a string.\")\n",
    "else:\n",
    "    print(\"It is not a string.\")\n"
   ]
  },
  {
   "cell_type": "markdown",
   "metadata": {},
   "source": [
    "Turn the 2 columns df[\"Comment Likes\"] df[\"Reply Count\"] a number"
   ]
  },
  {
   "cell_type": "code",
   "execution_count": null,
   "metadata": {},
   "outputs": [
    {
     "name": "stdout",
     "output_type": "stream",
     "text": [
      "   Index                                            Comment  Comment Likes  \\\n",
      "0      0  hello you beauties i really enjoyed this one h...           1223   \n",
      "1      1                           wonderful insight jordan              0   \n",
      "2      2  jordan peterson is a great man really genuine ...              0   \n",
      "3      3  one of the greatest men of our time god bless ...              1   \n",
      "4      4  im not sure if its because of my adhd but as a...              0   \n",
      "\n",
      "                 Author  Reply Count           Id  \n",
      "0           @ChrisWillx           82  WEP5ubPMGDU  \n",
      "1     @Neilchristie-c2r            0  WEP5ubPMGDU  \n",
      "2      @seanseasman1355            0  WEP5ubPMGDU  \n",
      "3           @johnve8327            0  WEP5ubPMGDU  \n",
      "4  @SeniorWellnessGuide            0  WEP5ubPMGDU  \n"
     ]
    }
   ],
   "source": [
    "\n",
    "if isinstance(df[\"Comment Likes\"][0], str):\n",
    "    df[\"Comment Likes\"] = pd.to_numeric(df[\"Comment Likes\"], errors=\"coerce\")\n",
    "\n",
    "if isinstance(df[\"Reply Count\"][0], str):\n",
    "    df[\"Reply Count\"] = pd.to_numeric(df[\"Reply Count\"], errors=\"coerce\")\n",
    "\n",
    "print(df.head())\n"
   ]
  },
  {
   "cell_type": "code",
   "execution_count": 22,
   "metadata": {},
   "outputs": [],
   "source": [
    "df.to_csv(\"youtube_comment_data_cleaned.csv\", index=False)\n"
   ]
  },
  {
   "cell_type": "markdown",
   "metadata": {},
   "source": [
    "Is my data-set skewed? Check how many comments belong to each Id? "
   ]
  },
  {
   "cell_type": "code",
   "execution_count": 23,
   "metadata": {},
   "outputs": [
    {
     "name": "stdout",
     "output_type": "stream",
     "text": [
      "count      10.000000\n",
      "mean     2449.500000\n",
      "std      2232.349497\n",
      "min        68.000000\n",
      "25%       636.500000\n",
      "50%      1555.500000\n",
      "75%      4310.250000\n",
      "max      5892.000000\n",
      "Name: count, dtype: float64\n"
     ]
    }
   ],
   "source": [
    "comment_counts = df[\"Id\"].value_counts()\n",
    "print(comment_counts.describe())\n"
   ]
  },
  {
   "cell_type": "markdown",
   "metadata": {},
   "source": [
    "It is a bit skewed which may not be ideal in real world application."
   ]
  },
  {
   "cell_type": "markdown",
   "metadata": {},
   "source": []
  }
 ],
 "metadata": {
  "kernelspec": {
   "display_name": "venv2",
   "language": "python",
   "name": "python3"
  },
  "language_info": {
   "codemirror_mode": {
    "name": "ipython",
    "version": 3
   },
   "file_extension": ".py",
   "mimetype": "text/x-python",
   "name": "python",
   "nbconvert_exporter": "python",
   "pygments_lexer": "ipython3",
   "version": "3.11.11"
  }
 },
 "nbformat": 4,
 "nbformat_minor": 2
}
