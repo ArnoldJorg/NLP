{
 "cells": [
  {
   "cell_type": "markdown",
   "metadata": {},
   "source": [
    " <a id='section1'>FIRST: </a>Let me do a practise attempt (from intro to data-science in DAZ repo)"
   ]
  },
  {
   "cell_type": "code",
   "execution_count": 1,
   "metadata": {},
   "outputs": [
    {
     "name": "stdout",
     "output_type": "stream",
     "text": [
      "                                               Title     Views    Likes  \\\n",
      "0                        Minecraft LIVE - March 2025   3783353   203026   \n",
      "1         I Survived The 5 Deadliest Places On Earth  28184135  1212778   \n",
      "2                                      Ye - BULLY V1   2663861   236342   \n",
      "3           I Hit The World's Fastest Baseball Pitch   1392932    42877   \n",
      "4  Stray Kids \"Burnin’ Tires (Changbin & I.N)\" Video   4786099   349706   \n",
      "\n",
      "   Comments CategoryId  \n",
      "0      6783         20  \n",
      "1     22407         24  \n",
      "2     30253         10  \n",
      "3      1382         17  \n",
      "4     21054         10  \n"
     ]
    }
   ],
   "source": [
    "import os\n",
    "from collections import Counter\n",
    "# import matplotlib.pyplot as plt\n",
    "import pandas as pd\n",
    "from dotenv import load_dotenv\n",
    "from googleapiclient.discovery import build\n",
    "from textblob import TextBlob\n",
    "\n",
    "load_dotenv()\n",
    "\n",
    "youtube_api_key = os.getenv(\"YOUTUBE_API_KEY\")\n",
    "youtube = build(\"youtube\", \"v3\", developerKey=youtube_api_key)\n",
    "request = youtube.videos().list(\n",
    "    part=\"snippet,statistics\",\n",
    "    chart=\"mostPopular\",\n",
    "    regionCode=\"US\",\n",
    "    maxResults=10,\n",
    "    videoCategoryId=0,\n",
    ")\n",
    "response = request.execute()\n",
    "\n",
    "# print(response)\n",
    "# printed to test and is working :)!\n",
    "\n",
    "video_data = []\n",
    "\n",
    "for item in response[\"items\"]:\n",
    "    video_data.append(\n",
    "        {\n",
    "            \"Title\": item[\"snippet\"][\"title\"],\n",
    "            \"Views\": int(item[\"statistics\"][\"viewCount\"]),\n",
    "            \"Likes\": int(item[\"statistics\"].get(\"likeCount\", 0)),\n",
    "            \"Comments\": int(item[\"statistics\"].get(\"commentCount\", 0)),\n",
    "            \"CategoryId\": item[\"snippet\"][\"categoryId\"],\n",
    "        }\n",
    "    )\n",
    "\n",
    "video_df = pd.DataFrame(video_data)\n",
    "print(video_df.head())"
   ]
  },
  {
   "cell_type": "markdown",
   "metadata": {},
   "source": [
    "Find the category Id of the type of video I want to train for."
   ]
  },
  {
   "cell_type": "code",
   "execution_count": 13,
   "metadata": {},
   "outputs": [
    {
     "name": "stdout",
     "output_type": "stream",
     "text": [
      "MVGJeGWZoy4&t=11s\n"
     ]
    }
   ],
   "source": [
    "url = \"https://www.youtube.com/watch?v=MVGJeGWZoy4&t=11s\"\n",
    "video_split = url.split(\"watch?v=\")[-1]\n",
    "print(video_split)"
   ]
  },
  {
   "cell_type": "code",
   "execution_count": null,
   "metadata": {},
   "outputs": [
    {
     "data": {
      "text/plain": [
       "'MVGJeGWZoy4'"
      ]
     },
     "execution_count": 14,
     "metadata": {},
     "output_type": "execute_result"
    }
   ],
   "source": [
    "# Getting rid of timestamping\n",
    "\n",
    "if \"&t=\" in video_split:\n",
    "    video_id = video_split.split(\"&t=\")[0]\n",
    "\n",
    "else:\n",
    "    video_id = video_split\n",
    "\n",
    "video_id\n",
    "\n",
    "    "
   ]
  },
  {
   "cell_type": "code",
   "execution_count": null,
   "metadata": {},
   "outputs": [
    {
     "name": "stdout",
     "output_type": "stream",
     "text": [
      "{'kind': 'youtube#videoListResponse', 'etag': '9VDRg_BWPb73_wPlzTAWqnx0Pec', 'items': [{'kind': 'youtube#video', 'etag': 'VZIgPDeZljSJvB9Ae3kCwX4YH2g', 'id': 'MVGJeGWZoy4', 'snippet': {'publishedAt': '2023-10-19T01:00:14Z', 'channelId': 'UC8PICQUP0a_HsrA9S4IIgWw', 'title': \"Jordan Peterson: Fix Yourself Before It's Too Late\", 'description': \"Jordan B. Peterson, renowned psychologist and author, explains the importance of not wasting your life, how you should strive to be better every single day and how by fixing your life, you not only help yourself but everyone you come in contact with. \\n\\nSpecial Thanks to: \\nDiary of a CEO: https://www.youtube.com/watch?v=3uLDin9A9pc \\nMotivationHub: https://www.youtube.com/watch?v=S4vRiXumBoU&t=395s \\nMotiversity: https://www.youtube.com/watch?v=cC_GsaiqS1U&t=318s \\n\\n►Listen to all our videos on the New Mindset App: https://bit.ly/M2SMindsetApp\\n  ------------------------\\nWays to stay connected with Motivation2Study and stay motivated all day long:\\n\\n►SUBSCRIBE for New Motivational Videos every Week!\\nhttp://bit.ly/StudyMotivation\\n\\n▶DOWNLOAD for Free our Top 7 Study Tips!\\nhttps://bit.ly/m2sfreestudytips\\n\\n▶JOIN our Newsletter for Exclusive Updates, Discounts, and Student Deals:\\nhttps://bit.ly/motivation2studynewsletter\\n\\n▶FOLLOW our Podcast: https://linktr.ee/motivation2study\\n\\n▶SHOP Motivational Canvases and Apparel\\nhttps://bit.ly/motiversityshop\\n\\n▶BECOME A MEMBER of our loyal community!\\nhttps://bit.ly/m2smembers\\n ------------------------\\n▶ Speaker: Dr. Jordan Peterson \\n\\nJordan Peterson is North America's most popular psychologist. He is a professor at the University of Toronto and focuses on abnormal, social and personality psychology.\\n\\nFollow Jordan:\\nhttps://www.youtube.com/user/JordanPetersonVideos\\nhttps://twitter.com/jordanbpeterson\\nhttps://www.patreon.com/jordanbpeterson\\nGet Jordan Peterson's best selling book: 12 Rules for Life: An Antidote to Chaos: https://amzn.to/2u5boAv\\n\\n►Follow Motivation2Study:\\nFind us everywhere: https://linktr.ee/motivation2study\\nDiscord: https://bit.ly/motivation2studydiscord\\nInstagram: https://bit.ly/motivation2studyinstagram\\nFacebook: https://bit.ly/motivation2studyfacebook \\nTikTok: https://bit.ly/motivation2studytiktok \\nPodcasts: https://linktr.ee/motivation2study\\nMindset App: https://bit.ly/M2SMindsetApp\\nWebsite: https://bit.ly/motivation2studywebsite\\n\\n►Music: \\n\\nLicensed from Audiojungle\\n\\nOur Home - Borrtex\\nhttps://www.youtube.com/@Borrtex\\nhttps://borrtex.com/\\n\\nEpidemic Sound \\n\\nCommitment To Your Heart,  The Journey and City of Lights by Paul Elhart \\nYouTube: https://www.youtube.com/@UCLgJAizVLbsbibl0k6wETcg \\n  \\nReally Slow Motion\\nBuy their music:\\nAmazon: http://amzn.to/1lTltY5\\niTunes: http://bit.ly/1ee3l8K\\nSpotify: http://bit.ly/1r3lPvN\\n\\nFiliments by Scott Buckley - released under CC-BY 4.0.\\nWebsite: https://www.scottbuckley.com.au/ \\nYouTube: https://www.youtube.com/@UCUuUqWLLsUjheuYkP9AWxTA \\n\\nSoundstripe: WOOMBYWUQT1FXJAT  \\n ------------\\n►Video footage: For all video footage used, please see the credits at the end of the video. All video footage is licensed under CC-BY 3.0 or licensed from stock footage websites. Video edited and licensed by Motivation2Study.\\n\\n ------------\\n▶For business inquiries or speaker submissions:\\n\\nBusiness Inquiries: http://bit.ly/M2SBuisnessInquiries\\nSubmit Speeches: http://bit.ly/M2SSpeakerSubmissions\\n________________________________________________________________\\n🎧 Listen to all our videos on the New Mindset App:\\nhttps://bit.ly/M2SonMindsetApp\\n\\n📘 Recommended Reading List \\nhttps://amzn.to/2v6QPY0\\n\\n📕 Audible 30-day Free Trial:\\nhttps://amzn.to/4bQcwuj\\n\\n💌 Amazon Prime Student 6-mo Free Trial: \\nhttps://amzn.to/4aAMolZ\\n\\n🎵 Epidemic Sound: music for your videos, 7-day Free Trial:\\nhttps://share.epidemicsound.com/sdvpv3\\n \\nDisclaimer: Please note some links above are affiliate links. If you use them and make a purchase we receive a commission. Thank you for your support!\\n\\n#JordanPeterson #motivation2study #jordanpetersonmotivation  #studymotivation\", 'thumbnails': {'default': {'url': 'https://i.ytimg.com/vi/MVGJeGWZoy4/default.jpg', 'width': 120, 'height': 90}, 'medium': {'url': 'https://i.ytimg.com/vi/MVGJeGWZoy4/mqdefault.jpg', 'width': 320, 'height': 180}, 'high': {'url': 'https://i.ytimg.com/vi/MVGJeGWZoy4/hqdefault.jpg', 'width': 480, 'height': 360}, 'standard': {'url': 'https://i.ytimg.com/vi/MVGJeGWZoy4/sddefault.jpg', 'width': 640, 'height': 480}, 'maxres': {'url': 'https://i.ytimg.com/vi/MVGJeGWZoy4/maxresdefault.jpg', 'width': 1280, 'height': 720}}, 'channelTitle': 'Motivation2Study', 'tags': ['12 rules for life', 'This is why you waste time', \"don't waste your life\", \"don't waste your life jordan peterson\", 'inspirational', 'jordan b peterson', 'jordan peterson', 'jordan peterson lecture', 'jordan peterson motivation', 'jordan peterson motivational speech', 'jordan peterson speech', 'life advice', 'm2s', 'motivation', 'motivation2study', 'motivation2study jordan peterson', 'motivational speech', 'motivational video', 'stop wasting time', 'study', 'study motivation', 'fix yourself before its too late'], 'categoryId': '27', 'liveBroadcastContent': 'none', 'localized': {'title': \"Jordan Peterson: Fix Yourself Before It's Too Late\", 'description': \"Jordan B. Peterson, renowned psychologist and author, explains the importance of not wasting your life, how you should strive to be better every single day and how by fixing your life, you not only help yourself but everyone you come in contact with. \\n\\nSpecial Thanks to: \\nDiary of a CEO: https://www.youtube.com/watch?v=3uLDin9A9pc \\nMotivationHub: https://www.youtube.com/watch?v=S4vRiXumBoU&t=395s \\nMotiversity: https://www.youtube.com/watch?v=cC_GsaiqS1U&t=318s \\n\\n►Listen to all our videos on the New Mindset App: https://bit.ly/M2SMindsetApp\\n  ------------------------\\nWays to stay connected with Motivation2Study and stay motivated all day long:\\n\\n►SUBSCRIBE for New Motivational Videos every Week!\\nhttp://bit.ly/StudyMotivation\\n\\n▶DOWNLOAD for Free our Top 7 Study Tips!\\nhttps://bit.ly/m2sfreestudytips\\n\\n▶JOIN our Newsletter for Exclusive Updates, Discounts, and Student Deals:\\nhttps://bit.ly/motivation2studynewsletter\\n\\n▶FOLLOW our Podcast: https://linktr.ee/motivation2study\\n\\n▶SHOP Motivational Canvases and Apparel\\nhttps://bit.ly/motiversityshop\\n\\n▶BECOME A MEMBER of our loyal community!\\nhttps://bit.ly/m2smembers\\n ------------------------\\n▶ Speaker: Dr. Jordan Peterson \\n\\nJordan Peterson is North America's most popular psychologist. He is a professor at the University of Toronto and focuses on abnormal, social and personality psychology.\\n\\nFollow Jordan:\\nhttps://www.youtube.com/user/JordanPetersonVideos\\nhttps://twitter.com/jordanbpeterson\\nhttps://www.patreon.com/jordanbpeterson\\nGet Jordan Peterson's best selling book: 12 Rules for Life: An Antidote to Chaos: https://amzn.to/2u5boAv\\n\\n►Follow Motivation2Study:\\nFind us everywhere: https://linktr.ee/motivation2study\\nDiscord: https://bit.ly/motivation2studydiscord\\nInstagram: https://bit.ly/motivation2studyinstagram\\nFacebook: https://bit.ly/motivation2studyfacebook \\nTikTok: https://bit.ly/motivation2studytiktok \\nPodcasts: https://linktr.ee/motivation2study\\nMindset App: https://bit.ly/M2SMindsetApp\\nWebsite: https://bit.ly/motivation2studywebsite\\n\\n►Music: \\n\\nLicensed from Audiojungle\\n\\nOur Home - Borrtex\\nhttps://www.youtube.com/@Borrtex\\nhttps://borrtex.com/\\n\\nEpidemic Sound \\n\\nCommitment To Your Heart,  The Journey and City of Lights by Paul Elhart \\nYouTube: https://www.youtube.com/@UCLgJAizVLbsbibl0k6wETcg \\n  \\nReally Slow Motion\\nBuy their music:\\nAmazon: http://amzn.to/1lTltY5\\niTunes: http://bit.ly/1ee3l8K\\nSpotify: http://bit.ly/1r3lPvN\\n\\nFiliments by Scott Buckley - released under CC-BY 4.0.\\nWebsite: https://www.scottbuckley.com.au/ \\nYouTube: https://www.youtube.com/@UCUuUqWLLsUjheuYkP9AWxTA \\n\\nSoundstripe: WOOMBYWUQT1FXJAT  \\n ------------\\n►Video footage: For all video footage used, please see the credits at the end of the video. All video footage is licensed under CC-BY 3.0 or licensed from stock footage websites. Video edited and licensed by Motivation2Study.\\n\\n ------------\\n▶For business inquiries or speaker submissions:\\n\\nBusiness Inquiries: http://bit.ly/M2SBuisnessInquiries\\nSubmit Speeches: http://bit.ly/M2SSpeakerSubmissions\\n________________________________________________________________\\n🎧 Listen to all our videos on the New Mindset App:\\nhttps://bit.ly/M2SonMindsetApp\\n\\n📘 Recommended Reading List \\nhttps://amzn.to/2v6QPY0\\n\\n📕 Audible 30-day Free Trial:\\nhttps://amzn.to/4bQcwuj\\n\\n💌 Amazon Prime Student 6-mo Free Trial: \\nhttps://amzn.to/4aAMolZ\\n\\n🎵 Epidemic Sound: music for your videos, 7-day Free Trial:\\nhttps://share.epidemicsound.com/sdvpv3\\n \\nDisclaimer: Please note some links above are affiliate links. If you use them and make a purchase we receive a commission. Thank you for your support!\\n\\n#JordanPeterson #motivation2study #jordanpetersonmotivation  #studymotivation\"}, 'defaultAudioLanguage': 'en'}}], 'pageInfo': {'totalResults': 1, 'resultsPerPage': 1}}\n"
     ]
    }
   ],
   "source": [
    "# -*- coding: utf-8 -*-\n",
    "\n",
    "# Sample Python code for youtube.videoCategories.list\n",
    "# See instructions for running these code samples locally:\n",
    "# https://developers.google.com/explorer-help/code-samples#python\n",
    "\n",
    "import os\n",
    "\n",
    "import googleapiclient.discovery\n",
    "\n",
    "def main():\n",
    "\n",
    "    request_category = youtube.videos().list(\n",
    "        part=\"snippet\",  # We want to fetch the 'snippet' part to get category info\n",
    "        id=video_id\n",
    "    )\n",
    "    response = request_category.execute()\n",
    "\n",
    "    print(response)\n",
    "\n",
    "if __name__ == \"__main__\":\n",
    "    main()"
   ]
  },
  {
   "cell_type": "markdown",
   "metadata": {},
   "source": [
    "Category is 27. Now, let me find the category title"
   ]
  },
  {
   "cell_type": "code",
   "execution_count": 15,
   "metadata": {},
   "outputs": [],
   "source": [
    "\n",
    "\n",
    "request_cat_id = youtube.videoCategories().list(\n",
    "        part=\"snippet\",\n",
    "        id=\"27\",\n",
    "        access_token=\"snippet\"\n",
    "    )\n",
    "\n",
    "response_cat_id = request_cat_id.execute()\n",
    "\n",
    "category_name = response_cat_id[\"items\"][0][\"snippet\"][\"title\"]\n"
   ]
  },
  {
   "cell_type": "code",
   "execution_count": 16,
   "metadata": {},
   "outputs": [
    {
     "name": "stdout",
     "output_type": "stream",
     "text": [
      "Education\n"
     ]
    }
   ],
   "source": [
    "print(category_name)"
   ]
  },
  {
   "cell_type": "markdown",
   "metadata": {},
   "source": [
    "Lets pick 10 similar videos now as done in here: [CLICK](#section1) and query important information such as: title, descriptions, meta tags and comments "
   ]
  },
  {
   "cell_type": "markdown",
   "metadata": {},
   "source": []
  },
  {
   "cell_type": "markdown",
   "metadata": {},
   "source": [
    "Array of video links - for loop through them and split the id"
   ]
  },
  {
   "cell_type": "code",
   "execution_count": 44,
   "metadata": {},
   "outputs": [
    {
     "name": "stdout",
     "output_type": "stream",
     "text": [
      "['WEP5ubPMGDU', 'laSK7Pxh0_8', 'rhjiANJVR6g', 'wqEsTPaUZF0', 'dJyz6iK8VXE', '4OmC6LyO5QI', '-gYpCIbZjUQ', 'IKot8dQc1Ps', 'yaXm6UsSHBM', 'FJV7HeHT4q4']\n"
     ]
    }
   ],
   "source": [
    "video_list = [\"https://www.youtube.com/watch?v=WEP5ubPMGDU\", \"https://www.youtube.com/watch?v=laSK7Pxh0_8\", \"https://www.youtube.com/watch?v=rhjiANJVR6g\", \"https://www.youtube.com/watch?v=wqEsTPaUZF0\", \"https://www.youtube.com/watch?v=dJyz6iK8VXE\", \"https://www.youtube.com/watch?v=4OmC6LyO5QI\", \"https://www.youtube.com/watch?v=-gYpCIbZjUQ\", \"https://www.youtube.com/watch?v=IKot8dQc1Ps\",\"https://www.youtube.com/watch?v=yaXm6UsSHBM\", \"https://www.youtube.com/watch?v=FJV7HeHT4q4\"]\n",
    "\n",
    "new_list = []\n",
    "for video in video_list:\n",
    "    video_url = video.split(\"watch?v=\")[-1]\n",
    "    if \"&t=\" in video_url:\n",
    "        video_id_new= video_url.split(\"&t=\")[0]\n",
    "\n",
    "    else:\n",
    "        video_id_new = video_url\n",
    "\n",
    "    new_list.append(video_id_new)\n",
    "\n",
    "print(new_list)\n",
    "\n"
   ]
  },
  {
   "cell_type": "markdown",
   "metadata": {},
   "source": [
    "Now that I have extracted all the Ids I can add them to the request"
   ]
  },
  {
   "cell_type": "code",
   "execution_count": null,
   "metadata": {},
   "outputs": [
    {
     "name": "stdout",
     "output_type": "stream",
     "text": [
      "   Index                                              Title     Views   Likes  \\\n",
      "0      0  Jordan Peterson - How To Destroy Your Negative...  11120378  129480   \n",
      "1      1  Jordan Peterson - 7 Harsh Truths To Take Contr...   5647156  121736   \n",
      "2      2  DISCIPLINE YOURSELF -  Best Motivational Speec...   6076195  122956   \n",
      "3      3  Jordan Peterson's Life Advice Will Change Your...  14851789  386693   \n",
      "4      4  The Choice We All Have , But Only a Few Apply ...  10568618  226173   \n",
      "\n",
      "  CategoryId        Published Date        Channel Name           Id  \n",
      "0         22  2023-11-27T16:00:30Z    Chris Williamson  WEP5ubPMGDU  \n",
      "1         22  2022-02-17T16:00:44Z    Chris Williamson  laSK7Pxh0_8  \n",
      "2         27  2022-07-22T13:00:40Z   Chispa Motivation  rhjiANJVR6g  \n",
      "3         27  2018-02-19T12:00:04Z  Motivation Madness  wqEsTPaUZF0  \n",
      "4         27  2018-11-12T12:00:05Z  Motivation Madness  dJyz6iK8VXE  \n"
     ]
    }
   ],
   "source": [
    "import os\n",
    "from collections import Counter\n",
    "# import matplotlib.pyplot as plt\n",
    "import pandas as pd\n",
    "from dotenv import load_dotenv\n",
    "from googleapiclient.discovery import build\n",
    "from textblob import TextBlob\n",
    "\n",
    "load_dotenv()\n",
    "\n",
    "youtube_api_key = os.getenv(\"YOUTUBE_API_KEY\")\n",
    "youtube = build(\"youtube\", \"v3\", developerKey=youtube_api_key)\n",
    "request = youtube.videos().list(\n",
    "    part=\"snippet,statistics\",\n",
    "    id=\",\".join(new_list)\n",
    ")\n",
    "api_response = request.execute()\n",
    "\n",
    "# print(response)\n",
    "# printed to test and is working :)!\n",
    "\n",
    "data = []\n",
    "comment_data = []\n",
    "\n",
    "for index, item in enumerate(api_response.get(\"items\", [])):  # Use enumerate() to get index\n",
    "    data.append(\n",
    "        {   \n",
    "            \"Index\": index,\n",
    "            \"Title\": item[\"snippet\"][\"title\"],\n",
    "            \"Views\": int(item[\"statistics\"][\"viewCount\"]),\n",
    "            \"Likes\": int(item[\"statistics\"].get(\"likeCount\", 0)),\n",
    "            # \"Comments\": int(item[\"statistics\"].get(\"commentCount\", 0)),\n",
    "            \"CategoryId\": item[\"snippet\"][\"categoryId\"],\n",
    "            \"Published Date\": item[\"snippet\"][\"publishedAt\"],\n",
    "            \"Channel Name\": item[\"snippet\"][\"channelTitle\"],\n",
    "            \"Id\": new_list[index]\n",
    "        }\n",
    "    )\n",
    "\n",
    "\n",
    "data_df = pd.DataFrame(data)\n",
    "print(data_df.head())"
   ]
  },
  {
   "cell_type": "code",
   "execution_count": 40,
   "metadata": {},
   "outputs": [],
   "source": [
    "data_df.to_csv(\"youtube_data.csv\", index=False)\n"
   ]
  },
  {
   "cell_type": "code",
   "execution_count": 52,
   "metadata": {},
   "outputs": [
    {
     "name": "stdout",
     "output_type": "stream",
     "text": [
      "Total Comments Fetched: 24492\n"
     ]
    }
   ],
   "source": [
    "comment_data = []\n",
    "\n",
    "for video_id in new_list:\n",
    "    next_page_token = None  \n",
    "\n",
    "    while True:  \n",
    "        request_comments = youtube.commentThreads().list(\n",
    "            part=\"snippet,replies\",\n",
    "            videoId=video_id,\n",
    "            maxResults=100,  \n",
    "            pageToken=next_page_token \n",
    "        )\n",
    "        response_comments = request_comments.execute()\n",
    "\n",
    "        \n",
    "        for index, item in enumerate(response_comments.get(\"items\", [])):\n",
    "            comment = item[\"snippet\"][\"topLevelComment\"][\"snippet\"]\n",
    "            comment_data.append(\n",
    "                {   \n",
    "                    \"Index\": index,\n",
    "                    \"Comment\": comment[\"textDisplay\"],\n",
    "                    \"Comment Likes\": comment[\"likeCount\"],\n",
    "                    \"Reply Count\": item[\"snippet\"][\"totalReplyCount\"],\n",
    "                    \"Id\": video_id  \n",
    "                }\n",
    "            )\n",
    "\n",
    "        \n",
    "        next_page_token = response_comments.get(\"nextPageToken\")\n",
    "\n",
    "        if not next_page_token:  \n",
    "            break  \n",
    "\n",
    "print(f\"Total Comments Fetched: {len(comment_data)}\")\n"
   ]
  },
  {
   "cell_type": "code",
   "execution_count": 53,
   "metadata": {},
   "outputs": [
    {
     "name": "stdout",
     "output_type": "stream",
     "text": [
      "   Index                                            Comment  Comment Likes  \\\n",
      "0      0  Hello you beauties. I really enjoyed this one,...           1220   \n",
      "1      1                           Wonderful insight Jordan              0   \n",
      "2      2  Jordan Peterson is a great man really genuine ...              0   \n",
      "3      3  One of the greatest men of our time, God Bless...              1   \n",
      "4      4  I’m not sure if it’s because of my ADHD, but a...              0   \n",
      "\n",
      "   Reply Count           Id  \n",
      "0           82  WEP5ubPMGDU  \n",
      "1            0  WEP5ubPMGDU  \n",
      "2            0  WEP5ubPMGDU  \n",
      "3            0  WEP5ubPMGDU  \n",
      "4            0  WEP5ubPMGDU  \n"
     ]
    }
   ],
   "source": [
    "comment_data_df = pd.DataFrame(comment_data)\n",
    "print(comment_data_df.head())"
   ]
  },
  {
   "cell_type": "code",
   "execution_count": 54,
   "metadata": {},
   "outputs": [],
   "source": [
    "comment_data_df.to_csv(\"youtube_comment_data.csv\", index=False)"
   ]
  },
  {
   "cell_type": "code",
   "execution_count": null,
   "metadata": {},
   "outputs": [],
   "source": [
    "description_tags_data = []\n",
    "\n",
    "request_description_tags = youtube.videos().list(\n",
    "   part=\"snippet,statistics\",\n",
    "    id=\",\".join(new_list)\n",
    ")\n",
    "response_description_tags = request_description_tags.execute()\n",
    "\n",
    "for index, item in enumerate(response_description_tags.get(\"items\", [])):  # Use enumerate() to get index\n",
    "    description_tags_data.append(\n",
    "        {\n",
    "            \"Index\": index,\n",
    "            \"Tags\": item[\"snippet\"][\"tags\"],\n",
    "            \"Description\": item[\"snippet\"][\"description\"]\n",
    "        }\n",
    "    )\n",
    "\n",
    "description_tags_df = pd.DataFrame(description_tags_data)\n"
   ]
  },
  {
   "cell_type": "code",
   "execution_count": 59,
   "metadata": {},
   "outputs": [
    {
     "name": "stdout",
     "output_type": "stream",
     "text": [
      "   Index                                               Tags  \\\n",
      "0      0  [modern wisdom, podcast, chris williamson, Chr...   \n",
      "1      1  [modern wisdom, podcast, chris williamson, Jor...   \n",
      "2      2  [jordan peterson, jordan peterson motivation, ...   \n",
      "3      3  [motivational video, motivation for 2018, moti...   \n",
      "4      4  [motivational video, motivation for 2018, moti...   \n",
      "\n",
      "                                         Description  \n",
      "0  Dr Jordan B. Peterson is a clinical psychologi...  \n",
      "1  Dr. Jordan B. Peterson is Professor Emeritus a...  \n",
      "2  Subscribe for weekly videos.\\n\\nFollow us on S...  \n",
      "3  Pre-Order Jordan Peterson's #1 NEW RELEASE Boo...  \n",
      "4  Jordan Peterson's Life Advice Will Change Your...  \n"
     ]
    }
   ],
   "source": [
    "print(description_tags_df.head())"
   ]
  },
  {
   "cell_type": "code",
   "execution_count": 60,
   "metadata": {},
   "outputs": [],
   "source": [
    "description_tags_df.to_csv(\"youtube_description_and_tags.csv\", index=False)"
   ]
  },
  {
   "cell_type": "code",
   "execution_count": null,
   "metadata": {},
   "outputs": [],
   "source": []
  }
 ],
 "metadata": {
  "kernelspec": {
   "display_name": "venv2",
   "language": "python",
   "name": "python3"
  },
  "language_info": {
   "codemirror_mode": {
    "name": "ipython",
    "version": 3
   },
   "file_extension": ".py",
   "mimetype": "text/x-python",
   "name": "python",
   "nbconvert_exporter": "python",
   "pygments_lexer": "ipython3",
   "version": "3.11.11"
  }
 },
 "nbformat": 4,
 "nbformat_minor": 2
}
